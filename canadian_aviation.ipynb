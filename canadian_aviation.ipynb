{
 "metadata": {
  "language_info": {
   "codemirror_mode": {
    "name": "ipython",
    "version": 3
   },
   "file_extension": ".py",
   "mimetype": "text/x-python",
   "name": "python",
   "nbconvert_exporter": "python",
   "pygments_lexer": "ipython3",
   "version": "3.7.9"
  },
  "orig_nbformat": 2,
  "kernelspec": {
   "name": "python379jvsc74a57bd070c0a70628a572152ee01a4fb7aca21e137aa17c6dd60df66aa372f385052d71",
   "display_name": "Python 3.7.9 64-bit"
  },
  "metadata": {
   "interpreter": {
    "hash": "70c0a70628a572152ee01a4fb7aca21e137aa17c6dd60df66aa372f385052d71"
   }
  }
 },
 "nbformat": 4,
 "nbformat_minor": 2,
 "cells": [
  {
   "cell_type": "code",
   "execution_count": 1,
   "metadata": {},
   "outputs": [],
   "source": [
    "import urllib.request\n",
    "import pandas as pd\n",
    "import matplotlib.pyplot as plt\n",
    "import matplotlib\n",
    "import seaborn as sns\n",
    "import os\n",
    "from tqdm.notebook import tqdm\n",
    "from numpy import random\n",
    "sns.set_style('darkgrid')\n",
    "matplotlib.rcParams['font.size'] = 18\n",
    "matplotlib.rcParams['figure.figsize'] = (18, 10)\n",
    "matplotlib.rcParams['figure.facecolor'] = '#00000000'"
   ]
  },
  {
   "cell_type": "code",
   "execution_count": 2,
   "metadata": {},
   "outputs": [],
   "source": [
    "occurence_table_url = 'https://www.bst-tsb.gc.ca/includes/stats/csv/Air/ASISdb_MDOTW_VW_OCCURRENCE_PUBLIC.csv'\n",
    "\n",
    "aircraft_table_url = 'https://www.bst-tsb.gc.ca/includes/stats/csv/Air/ASISdb_MDOTW_VW_AIRCRAFT_PUBLIC.csv'\n",
    "\n",
    "injuries_table_url = 'https://www.bst-tsb.gc.ca/includes/stats/csv/Air/ASISdb_MDOTW_VW_INJURIES_PUBLIC.csv'\n",
    "\n",
    "events_phases_table_url = 'https://www.bst-tsb.gc.ca/includes/stats/csv/Air/ASISdb_MDOTW_VW_EVENTS_AND_PHASES_PUBLIC.csv'\n",
    "\n",
    "survivability_table_url = 'https://www.bst-tsb.gc.ca/includes/stats/csv/Air/ASISdb_MDOTW_VW_SURVIVABILITY_PUBLIC.csv'\n"
   ]
  },
  {
   "cell_type": "code",
   "execution_count": 3,
   "metadata": {},
   "outputs": [],
   "source": [
    "if 'occurence.csv' not in os.listdir():\n",
    "    urllib.request.urlretrieve(occurence_table_url, 'occurence.csv')\n",
    "if 'aircraft.csv' not in os.listdir():\n",
    "    urllib.request.urlretrieve(aircraft_table_url, 'aircraft.csv')\n",
    "if 'injuries.csv' not in os.listdir():\n",
    "    urllib.request.urlretrieve(injuries_table_url, 'injuries.csv')\n",
    "if 'events_phases.csv' not in os.listdir():\n",
    "    urllib.request.urlretrieve(events_phases_table_url, 'events_phases.csv')\n",
    "if 'survivability.csv' not in os.listdir():\n",
    "    urllib.request.urlretrieve(survivability_table_url, 'survivability.csv')\n"
   ]
  },
  {
   "cell_type": "code",
   "execution_count": 8,
   "metadata": {},
   "outputs": [],
   "source": [
    "occurence_df = pd.read_csv('occurence.csv', encoding='utf-8')\n",
    "aircraft_df = pd.read_csv('aircraft.csv', encoding='utf-8')\n",
    "injuries_df = pd.read_csv('injuries.csv', encoding='utf-8')\n",
    "events_phases_df = pd.read_csv('events_phases.csv', encoding='utf-8')\n",
    "survivability_df = pd.read_csv('survivability.csv', encoding='utf-8')"
   ]
  },
  {
   "cell_type": "code",
   "execution_count": null,
   "metadata": {},
   "outputs": [],
   "source": []
  }
 ]
}